# battery_life_estimator.ipynb

# 📘 Smartphone Battery Life Estimator - Jupyter Notebook

# Step 1: Import Libraries
import pandas as pd
import numpy as np
import matplotlib.pyplot as plt
import seaborn as sns
from sklearn.model_selection import train_test_split
from sklearn.linear_model import LinearRegression
from sklearn.metrics import mean_absolute_error, mean_squared_error, r2_score

# Step 2: Load Dataset
df = pd.read_csv("data/usage_data.csv")
df.head()

# Step 3: Data Overview
print(df.info())
print(df.describe())

# Step 4: Correlation Analysis
plt.figure(figsize=(8,6))
sns.heatmap(df.corr(), annot=True)
plt.title("Feature Correlation")
plt.show()

# Step 5: Features and Target
X = df.drop("battery_life_hours", axis=1)
y = df["battery_life_hours"]

# Step 6: Train-Test Split
X_train, X_test, y_train, y_test = train_test_split(X, y, test_size=0.2, random_state=42)

# Step 7: Train the Model
model = LinearRegression()
model.fit(X_train, y_train)

# Step 8: Evaluate the Model
y_pred = model.predict(X_test)

print("Mean Absolute Error:", mean_absolute_error(y_test, y_pred))
print("Mean Squared Error:", mean_squared_error(y_test, y_pred))
print("R2 Score:", r2_score(y_test, y_pred))

# Step 9: Predict Battery Life for New Input
new_data = pd.DataFrame({
    'screen_on_time_minutes': [250],
    'num_apps_used': [15],
    'brightness_level': [80],
    'network_usage_mb': [500]
})
predicted_life = model.predict(new_data)
print("Estimated Battery Life (in hours):", predicted_life[0])
